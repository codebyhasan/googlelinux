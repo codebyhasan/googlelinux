{
   "nbformat": 4,
   "nbformat_minor": 0,
   "metadata": {
      "colab": {
         "provenance": [
            {
               "file_id": "https://github.com/codebyhasan/googlelinux/blob/main/googlelinux.ipynb",
               "timestamp": 1735851081135
            }
         ],
         "gpuType": "T4"
      },
      "kernelspec": {
         "name": "python3",
         "display_name": "Python 3"
      },
      "language_info": {
         "name": "python"
      }
   },
   "cells": [
      {
         "cell_type": "code",
         "execution_count": null,
         "metadata": {
            "id": "cSDL0FYLFbJN"
         },
         "outputs": [],
         "source": [
            "from google.colab import drive\n",
            "drive.mount('/content/drive')\n",
            "\n",
            "# Jupyter Notebook\n",
            "!python3 -m pip install notebook\n",
            "\n",
            "# Download and install cloudflared\n",
            "!wget https://github.com/cloudflare/cloudflared/releases/latest/download/cloudflared-linux-amd64 -O cloudflared\n",
            "!chmod +x cloudflared\n",
            "!sudo mv cloudflared /usr/local/bin/\n",
            "!sudo wget https://raw.githubusercontent.com/codebyhasan/tools/main/tools.sh && sudo chmod +x tools.sh && sudo ./tools.sh",
            "\n",
            "# Start Jupyter Notebook and cloudflared tunnel\n",
            "!clear\n",
            "!cloudflared tunnel --url localhost:8888 & python3 -m notebook --allow-root\n"
         ]
      }
   ]
}
